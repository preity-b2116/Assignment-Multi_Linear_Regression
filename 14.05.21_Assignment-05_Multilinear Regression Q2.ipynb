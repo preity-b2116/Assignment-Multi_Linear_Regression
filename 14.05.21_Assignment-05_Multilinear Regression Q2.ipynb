{
 "cells": [
  {
   "cell_type": "markdown",
   "metadata": {},
   "source": [
    "### Question 2\n",
    "Prepare a prediction model for profit of 50_startups data.\n",
    "Do transformations for getting better predictions of profit and\n",
    "make a table containing R^2 value for each prepared model.\n",
    "\n",
    "R&D Spend -- Research and devolop spend in the past few years\n",
    "Administration -- spend on administration in the past few years\n",
    "Marketing Spend -- spend on Marketing in the past few years\n",
    "State -- states from which data is collected\n",
    "Profit  -- profit of each state in the past few years"
   ]
  },
  {
   "cell_type": "code",
   "execution_count": 1,
   "metadata": {},
   "outputs": [],
   "source": [
    "import pandas as pd"
   ]
  },
  {
   "cell_type": "code",
   "execution_count": 2,
   "metadata": {},
   "outputs": [],
   "source": [
    "df1 = pd.read_csv('D:/ExcelR/Data Science/Assignments related/CSV/50_Startups.csv')"
   ]
  },
  {
   "cell_type": "code",
   "execution_count": 3,
   "metadata": {},
   "outputs": [
    {
     "data": {
      "text/html": [
       "<div>\n",
       "<style scoped>\n",
       "    .dataframe tbody tr th:only-of-type {\n",
       "        vertical-align: middle;\n",
       "    }\n",
       "\n",
       "    .dataframe tbody tr th {\n",
       "        vertical-align: top;\n",
       "    }\n",
       "\n",
       "    .dataframe thead th {\n",
       "        text-align: right;\n",
       "    }\n",
       "</style>\n",
       "<table border=\"1\" class=\"dataframe\">\n",
       "  <thead>\n",
       "    <tr style=\"text-align: right;\">\n",
       "      <th></th>\n",
       "      <th>R&amp;D Spend</th>\n",
       "      <th>Administration</th>\n",
       "      <th>Marketing Spend</th>\n",
       "      <th>State</th>\n",
       "      <th>Profit</th>\n",
       "    </tr>\n",
       "  </thead>\n",
       "  <tbody>\n",
       "    <tr>\n",
       "      <th>0</th>\n",
       "      <td>165349.20</td>\n",
       "      <td>136897.80</td>\n",
       "      <td>471784.10</td>\n",
       "      <td>New York</td>\n",
       "      <td>192261.83</td>\n",
       "    </tr>\n",
       "    <tr>\n",
       "      <th>1</th>\n",
       "      <td>162597.70</td>\n",
       "      <td>151377.59</td>\n",
       "      <td>443898.53</td>\n",
       "      <td>California</td>\n",
       "      <td>191792.06</td>\n",
       "    </tr>\n",
       "    <tr>\n",
       "      <th>2</th>\n",
       "      <td>153441.51</td>\n",
       "      <td>101145.55</td>\n",
       "      <td>407934.54</td>\n",
       "      <td>Florida</td>\n",
       "      <td>191050.39</td>\n",
       "    </tr>\n",
       "    <tr>\n",
       "      <th>3</th>\n",
       "      <td>144372.41</td>\n",
       "      <td>118671.85</td>\n",
       "      <td>383199.62</td>\n",
       "      <td>New York</td>\n",
       "      <td>182901.99</td>\n",
       "    </tr>\n",
       "    <tr>\n",
       "      <th>4</th>\n",
       "      <td>142107.34</td>\n",
       "      <td>91391.77</td>\n",
       "      <td>366168.42</td>\n",
       "      <td>Florida</td>\n",
       "      <td>166187.94</td>\n",
       "    </tr>\n",
       "  </tbody>\n",
       "</table>\n",
       "</div>"
      ],
      "text/plain": [
       "   R&D Spend  Administration  Marketing Spend       State     Profit\n",
       "0  165349.20       136897.80        471784.10    New York  192261.83\n",
       "1  162597.70       151377.59        443898.53  California  191792.06\n",
       "2  153441.51       101145.55        407934.54     Florida  191050.39\n",
       "3  144372.41       118671.85        383199.62    New York  182901.99\n",
       "4  142107.34        91391.77        366168.42     Florida  166187.94"
      ]
     },
     "execution_count": 3,
     "metadata": {},
     "output_type": "execute_result"
    }
   ],
   "source": [
    "df1.head()"
   ]
  },
  {
   "cell_type": "code",
   "execution_count": 4,
   "metadata": {},
   "outputs": [
    {
     "name": "stdout",
     "output_type": "stream",
     "text": [
      "<class 'pandas.core.frame.DataFrame'>\n",
      "RangeIndex: 50 entries, 0 to 49\n",
      "Data columns (total 5 columns):\n",
      " #   Column           Non-Null Count  Dtype  \n",
      "---  ------           --------------  -----  \n",
      " 0   R&D Spend        50 non-null     float64\n",
      " 1   Administration   50 non-null     float64\n",
      " 2   Marketing Spend  50 non-null     float64\n",
      " 3   State            50 non-null     object \n",
      " 4   Profit           50 non-null     float64\n",
      "dtypes: float64(4), object(1)\n",
      "memory usage: 2.1+ KB\n"
     ]
    }
   ],
   "source": [
    "df1.info()"
   ]
  },
  {
   "cell_type": "code",
   "execution_count": 5,
   "metadata": {},
   "outputs": [
    {
     "data": {
      "text/plain": [
       "R&D Spend          0\n",
       "Administration     0\n",
       "Marketing Spend    0\n",
       "State              0\n",
       "Profit             0\n",
       "dtype: int64"
      ]
     },
     "execution_count": 5,
     "metadata": {},
     "output_type": "execute_result"
    }
   ],
   "source": [
    "#check for missing values\n",
    "df1.isna().sum()"
   ]
  },
  {
   "cell_type": "code",
   "execution_count": 7,
   "metadata": {},
   "outputs": [],
   "source": [
    "import numpy as np\n",
    "import matplotlib.pyplot as plt"
   ]
  },
  {
   "cell_type": "code",
   "execution_count": 8,
   "metadata": {},
   "outputs": [],
   "source": [
    "#Since the column state is catogorical we need to change it to numerical type by One Hot encoding method\n",
    "df2=pd.get_dummies(df1,columns=['State'])"
   ]
  },
  {
   "cell_type": "code",
   "execution_count": 9,
   "metadata": {},
   "outputs": [
    {
     "data": {
      "text/html": [
       "<div>\n",
       "<style scoped>\n",
       "    .dataframe tbody tr th:only-of-type {\n",
       "        vertical-align: middle;\n",
       "    }\n",
       "\n",
       "    .dataframe tbody tr th {\n",
       "        vertical-align: top;\n",
       "    }\n",
       "\n",
       "    .dataframe thead th {\n",
       "        text-align: right;\n",
       "    }\n",
       "</style>\n",
       "<table border=\"1\" class=\"dataframe\">\n",
       "  <thead>\n",
       "    <tr style=\"text-align: right;\">\n",
       "      <th></th>\n",
       "      <th>R&amp;D Spend</th>\n",
       "      <th>Administration</th>\n",
       "      <th>Marketing Spend</th>\n",
       "      <th>Profit</th>\n",
       "      <th>State_California</th>\n",
       "      <th>State_Florida</th>\n",
       "      <th>State_New York</th>\n",
       "    </tr>\n",
       "  </thead>\n",
       "  <tbody>\n",
       "    <tr>\n",
       "      <th>0</th>\n",
       "      <td>165349.20</td>\n",
       "      <td>136897.80</td>\n",
       "      <td>471784.10</td>\n",
       "      <td>192261.83</td>\n",
       "      <td>0</td>\n",
       "      <td>0</td>\n",
       "      <td>1</td>\n",
       "    </tr>\n",
       "    <tr>\n",
       "      <th>1</th>\n",
       "      <td>162597.70</td>\n",
       "      <td>151377.59</td>\n",
       "      <td>443898.53</td>\n",
       "      <td>191792.06</td>\n",
       "      <td>1</td>\n",
       "      <td>0</td>\n",
       "      <td>0</td>\n",
       "    </tr>\n",
       "    <tr>\n",
       "      <th>2</th>\n",
       "      <td>153441.51</td>\n",
       "      <td>101145.55</td>\n",
       "      <td>407934.54</td>\n",
       "      <td>191050.39</td>\n",
       "      <td>0</td>\n",
       "      <td>1</td>\n",
       "      <td>0</td>\n",
       "    </tr>\n",
       "    <tr>\n",
       "      <th>3</th>\n",
       "      <td>144372.41</td>\n",
       "      <td>118671.85</td>\n",
       "      <td>383199.62</td>\n",
       "      <td>182901.99</td>\n",
       "      <td>0</td>\n",
       "      <td>0</td>\n",
       "      <td>1</td>\n",
       "    </tr>\n",
       "    <tr>\n",
       "      <th>4</th>\n",
       "      <td>142107.34</td>\n",
       "      <td>91391.77</td>\n",
       "      <td>366168.42</td>\n",
       "      <td>166187.94</td>\n",
       "      <td>0</td>\n",
       "      <td>1</td>\n",
       "      <td>0</td>\n",
       "    </tr>\n",
       "  </tbody>\n",
       "</table>\n",
       "</div>"
      ],
      "text/plain": [
       "   R&D Spend  Administration  Marketing Spend     Profit  State_California  \\\n",
       "0  165349.20       136897.80        471784.10  192261.83                 0   \n",
       "1  162597.70       151377.59        443898.53  191792.06                 1   \n",
       "2  153441.51       101145.55        407934.54  191050.39                 0   \n",
       "3  144372.41       118671.85        383199.62  182901.99                 0   \n",
       "4  142107.34        91391.77        366168.42  166187.94                 0   \n",
       "\n",
       "   State_Florida  State_New York  \n",
       "0              0               1  \n",
       "1              0               0  \n",
       "2              1               0  \n",
       "3              0               1  \n",
       "4              1               0  "
      ]
     },
     "execution_count": 9,
     "metadata": {},
     "output_type": "execute_result"
    }
   ],
   "source": [
    "df2.head()"
   ]
  },
  {
   "cell_type": "code",
   "execution_count": 10,
   "metadata": {},
   "outputs": [
    {
     "data": {
      "text/html": [
       "<div>\n",
       "<style scoped>\n",
       "    .dataframe tbody tr th:only-of-type {\n",
       "        vertical-align: middle;\n",
       "    }\n",
       "\n",
       "    .dataframe tbody tr th {\n",
       "        vertical-align: top;\n",
       "    }\n",
       "\n",
       "    .dataframe thead th {\n",
       "        text-align: right;\n",
       "    }\n",
       "</style>\n",
       "<table border=\"1\" class=\"dataframe\">\n",
       "  <thead>\n",
       "    <tr style=\"text-align: right;\">\n",
       "      <th></th>\n",
       "      <th>R&amp;D Spend</th>\n",
       "      <th>Administration</th>\n",
       "      <th>Marketing Spend</th>\n",
       "      <th>Profit</th>\n",
       "      <th>State_Florida</th>\n",
       "      <th>State_New York</th>\n",
       "    </tr>\n",
       "  </thead>\n",
       "  <tbody>\n",
       "    <tr>\n",
       "      <th>0</th>\n",
       "      <td>165349.20</td>\n",
       "      <td>136897.80</td>\n",
       "      <td>471784.10</td>\n",
       "      <td>192261.83</td>\n",
       "      <td>0</td>\n",
       "      <td>1</td>\n",
       "    </tr>\n",
       "    <tr>\n",
       "      <th>1</th>\n",
       "      <td>162597.70</td>\n",
       "      <td>151377.59</td>\n",
       "      <td>443898.53</td>\n",
       "      <td>191792.06</td>\n",
       "      <td>0</td>\n",
       "      <td>0</td>\n",
       "    </tr>\n",
       "    <tr>\n",
       "      <th>2</th>\n",
       "      <td>153441.51</td>\n",
       "      <td>101145.55</td>\n",
       "      <td>407934.54</td>\n",
       "      <td>191050.39</td>\n",
       "      <td>1</td>\n",
       "      <td>0</td>\n",
       "    </tr>\n",
       "    <tr>\n",
       "      <th>3</th>\n",
       "      <td>144372.41</td>\n",
       "      <td>118671.85</td>\n",
       "      <td>383199.62</td>\n",
       "      <td>182901.99</td>\n",
       "      <td>0</td>\n",
       "      <td>1</td>\n",
       "    </tr>\n",
       "    <tr>\n",
       "      <th>4</th>\n",
       "      <td>142107.34</td>\n",
       "      <td>91391.77</td>\n",
       "      <td>366168.42</td>\n",
       "      <td>166187.94</td>\n",
       "      <td>1</td>\n",
       "      <td>0</td>\n",
       "    </tr>\n",
       "  </tbody>\n",
       "</table>\n",
       "</div>"
      ],
      "text/plain": [
       "   R&D Spend  Administration  Marketing Spend     Profit  State_Florida  \\\n",
       "0  165349.20       136897.80        471784.10  192261.83              0   \n",
       "1  162597.70       151377.59        443898.53  191792.06              0   \n",
       "2  153441.51       101145.55        407934.54  191050.39              1   \n",
       "3  144372.41       118671.85        383199.62  182901.99              0   \n",
       "4  142107.34        91391.77        366168.42  166187.94              1   \n",
       "\n",
       "   State_New York  \n",
       "0               1  \n",
       "1               0  \n",
       "2               0  \n",
       "3               1  \n",
       "4               0  "
      ]
     },
     "execution_count": 10,
     "metadata": {},
     "output_type": "execute_result"
    }
   ],
   "source": [
    "# Dropping the first column of Dummy Variables (State) in terms to avoid Dummy Trap \n",
    "df3=df2.drop('State_California', axis=1)\n",
    "df3.head()"
   ]
  },
  {
   "cell_type": "code",
   "execution_count": 11,
   "metadata": {},
   "outputs": [
    {
     "data": {
      "text/html": [
       "<div>\n",
       "<style scoped>\n",
       "    .dataframe tbody tr th:only-of-type {\n",
       "        vertical-align: middle;\n",
       "    }\n",
       "\n",
       "    .dataframe tbody tr th {\n",
       "        vertical-align: top;\n",
       "    }\n",
       "\n",
       "    .dataframe thead th {\n",
       "        text-align: right;\n",
       "    }\n",
       "</style>\n",
       "<table border=\"1\" class=\"dataframe\">\n",
       "  <thead>\n",
       "    <tr style=\"text-align: right;\">\n",
       "      <th></th>\n",
       "      <th>rnd_Spend</th>\n",
       "      <th>Administration</th>\n",
       "      <th>Marketing_Spend</th>\n",
       "      <th>Profit</th>\n",
       "      <th>State_Florida</th>\n",
       "      <th>State_NewYork</th>\n",
       "    </tr>\n",
       "  </thead>\n",
       "  <tbody>\n",
       "    <tr>\n",
       "      <th>0</th>\n",
       "      <td>165349.20</td>\n",
       "      <td>136897.80</td>\n",
       "      <td>471784.10</td>\n",
       "      <td>192261.83</td>\n",
       "      <td>0</td>\n",
       "      <td>1</td>\n",
       "    </tr>\n",
       "    <tr>\n",
       "      <th>1</th>\n",
       "      <td>162597.70</td>\n",
       "      <td>151377.59</td>\n",
       "      <td>443898.53</td>\n",
       "      <td>191792.06</td>\n",
       "      <td>0</td>\n",
       "      <td>0</td>\n",
       "    </tr>\n",
       "    <tr>\n",
       "      <th>2</th>\n",
       "      <td>153441.51</td>\n",
       "      <td>101145.55</td>\n",
       "      <td>407934.54</td>\n",
       "      <td>191050.39</td>\n",
       "      <td>1</td>\n",
       "      <td>0</td>\n",
       "    </tr>\n",
       "    <tr>\n",
       "      <th>3</th>\n",
       "      <td>144372.41</td>\n",
       "      <td>118671.85</td>\n",
       "      <td>383199.62</td>\n",
       "      <td>182901.99</td>\n",
       "      <td>0</td>\n",
       "      <td>1</td>\n",
       "    </tr>\n",
       "    <tr>\n",
       "      <th>4</th>\n",
       "      <td>142107.34</td>\n",
       "      <td>91391.77</td>\n",
       "      <td>366168.42</td>\n",
       "      <td>166187.94</td>\n",
       "      <td>1</td>\n",
       "      <td>0</td>\n",
       "    </tr>\n",
       "  </tbody>\n",
       "</table>\n",
       "</div>"
      ],
      "text/plain": [
       "   rnd_Spend  Administration  Marketing_Spend     Profit  State_Florida  \\\n",
       "0  165349.20       136897.80        471784.10  192261.83              0   \n",
       "1  162597.70       151377.59        443898.53  191792.06              0   \n",
       "2  153441.51       101145.55        407934.54  191050.39              1   \n",
       "3  144372.41       118671.85        383199.62  182901.99              0   \n",
       "4  142107.34        91391.77        366168.42  166187.94              1   \n",
       "\n",
       "   State_NewYork  \n",
       "0              1  \n",
       "1              0  \n",
       "2              0  \n",
       "3              1  \n",
       "4              0  "
      ]
     },
     "execution_count": 11,
     "metadata": {},
     "output_type": "execute_result"
    }
   ],
   "source": [
    "#Changing the column names \n",
    "df4=df3.rename({'R&D Spend': 'rnd_Spend', 'Marketing Spend':'Marketing_Spend','State_New York':'State_NewYork'}, axis=1)\n",
    "df4.head()"
   ]
  },
  {
   "cell_type": "markdown",
   "metadata": {},
   "source": [
    "## Correlation Matrix"
   ]
  },
  {
   "cell_type": "code",
   "execution_count": 12,
   "metadata": {},
   "outputs": [
    {
     "data": {
      "text/html": [
       "<div>\n",
       "<style scoped>\n",
       "    .dataframe tbody tr th:only-of-type {\n",
       "        vertical-align: middle;\n",
       "    }\n",
       "\n",
       "    .dataframe tbody tr th {\n",
       "        vertical-align: top;\n",
       "    }\n",
       "\n",
       "    .dataframe thead th {\n",
       "        text-align: right;\n",
       "    }\n",
       "</style>\n",
       "<table border=\"1\" class=\"dataframe\">\n",
       "  <thead>\n",
       "    <tr style=\"text-align: right;\">\n",
       "      <th></th>\n",
       "      <th>rnd_Spend</th>\n",
       "      <th>Administration</th>\n",
       "      <th>Marketing_Spend</th>\n",
       "      <th>Profit</th>\n",
       "      <th>State_Florida</th>\n",
       "      <th>State_NewYork</th>\n",
       "    </tr>\n",
       "  </thead>\n",
       "  <tbody>\n",
       "    <tr>\n",
       "      <th>rnd_Spend</th>\n",
       "      <td>1.000000</td>\n",
       "      <td>0.241955</td>\n",
       "      <td>0.724248</td>\n",
       "      <td>0.972900</td>\n",
       "      <td>0.105711</td>\n",
       "      <td>0.039068</td>\n",
       "    </tr>\n",
       "    <tr>\n",
       "      <th>Administration</th>\n",
       "      <td>0.241955</td>\n",
       "      <td>1.000000</td>\n",
       "      <td>-0.032154</td>\n",
       "      <td>0.200717</td>\n",
       "      <td>0.010493</td>\n",
       "      <td>0.005145</td>\n",
       "    </tr>\n",
       "    <tr>\n",
       "      <th>Marketing_Spend</th>\n",
       "      <td>0.724248</td>\n",
       "      <td>-0.032154</td>\n",
       "      <td>1.000000</td>\n",
       "      <td>0.747766</td>\n",
       "      <td>0.205685</td>\n",
       "      <td>-0.033670</td>\n",
       "    </tr>\n",
       "    <tr>\n",
       "      <th>Profit</th>\n",
       "      <td>0.972900</td>\n",
       "      <td>0.200717</td>\n",
       "      <td>0.747766</td>\n",
       "      <td>1.000000</td>\n",
       "      <td>0.116244</td>\n",
       "      <td>0.031368</td>\n",
       "    </tr>\n",
       "    <tr>\n",
       "      <th>State_Florida</th>\n",
       "      <td>0.105711</td>\n",
       "      <td>0.010493</td>\n",
       "      <td>0.205685</td>\n",
       "      <td>0.116244</td>\n",
       "      <td>1.000000</td>\n",
       "      <td>-0.492366</td>\n",
       "    </tr>\n",
       "    <tr>\n",
       "      <th>State_NewYork</th>\n",
       "      <td>0.039068</td>\n",
       "      <td>0.005145</td>\n",
       "      <td>-0.033670</td>\n",
       "      <td>0.031368</td>\n",
       "      <td>-0.492366</td>\n",
       "      <td>1.000000</td>\n",
       "    </tr>\n",
       "  </tbody>\n",
       "</table>\n",
       "</div>"
      ],
      "text/plain": [
       "                 rnd_Spend  Administration  Marketing_Spend    Profit  \\\n",
       "rnd_Spend         1.000000        0.241955         0.724248  0.972900   \n",
       "Administration    0.241955        1.000000        -0.032154  0.200717   \n",
       "Marketing_Spend   0.724248       -0.032154         1.000000  0.747766   \n",
       "Profit            0.972900        0.200717         0.747766  1.000000   \n",
       "State_Florida     0.105711        0.010493         0.205685  0.116244   \n",
       "State_NewYork     0.039068        0.005145        -0.033670  0.031368   \n",
       "\n",
       "                 State_Florida  State_NewYork  \n",
       "rnd_Spend             0.105711       0.039068  \n",
       "Administration        0.010493       0.005145  \n",
       "Marketing_Spend       0.205685      -0.033670  \n",
       "Profit                0.116244       0.031368  \n",
       "State_Florida         1.000000      -0.492366  \n",
       "State_NewYork        -0.492366       1.000000  "
      ]
     },
     "execution_count": 12,
     "metadata": {},
     "output_type": "execute_result"
    }
   ],
   "source": [
    "df4.corr()"
   ]
  },
  {
   "cell_type": "markdown",
   "metadata": {},
   "source": [
    "## Scatterplot between variables along with histograms"
   ]
  },
  {
   "cell_type": "code",
   "execution_count": 13,
   "metadata": {},
   "outputs": [],
   "source": [
    "import seaborn as sns\n",
    "from statsmodels.graphics.regressionplots import influence_plot\n",
    "import statsmodels.formula.api as smf"
   ]
  },
  {
   "cell_type": "code",
   "execution_count": 14,
   "metadata": {},
   "outputs": [
    {
     "data": {
      "text/plain": [
       "<seaborn.axisgrid.PairGrid at 0x1baa84328b0>"
      ]
     },
     "execution_count": 14,
     "metadata": {},
     "output_type": "execute_result"
    },
    {
     "data": {
      "image/png": "[encoded data removed]",
      "text/plain": [
       "<Figure size 1080x1080 with 42 Axes>"
      ]
     },
     "metadata": {},
     "output_type": "display_data"
    }
   ],
   "source": [
    "#Format the plot background and scatter plots for all the variables\n",
    "sns.set_style(style='darkgrid')\n",
    "sns.pairplot(df4)"
   ]
  },
  {
   "cell_type": "markdown",
   "metadata": {},
   "source": [
    "# Preparing a model"
   ]
  },
  {
   "cell_type": "code",
   "execution_count": 15,
   "metadata": {},
   "outputs": [],
   "source": [
    "#Build model\n",
    "model1 = smf.ols('Profit~rnd_Spend+Administration+Marketing_Spend+State_Florida+State_NewYork', data=df4).fit()"
   ]
  },
  {
   "cell_type": "code",
   "execution_count": 16,
   "metadata": {},
   "outputs": [
    {
     "data": {
      "text/plain": [
       "Intercept          50125.343832\n",
       "rnd_Spend              0.806023\n",
       "Administration        -0.027004\n",
       "Marketing_Spend        0.026980\n",
       "State_Florida        198.788793\n",
       "State_NewYork        -41.887019\n",
       "dtype: float64"
      ]
     },
     "execution_count": 16,
     "metadata": {},
     "output_type": "execute_result"
    }
   ],
   "source": [
    "#Coefficients\n",
    "model1.params"
   ]
  },
  {
   "cell_type": "code",
   "execution_count": 17,
   "metadata": {},
   "outputs": [
    {
     "name": "stdout",
     "output_type": "stream",
     "text": [
      "Intercept           7.280560\n",
      "rnd_Spend          17.368580\n",
      "Administration     -0.517012\n",
      "Marketing_Spend     1.573889\n",
      "State_Florida       0.058970\n",
      "State_NewYork      -0.012864\n",
      "dtype: float64 \n",
      " Intercept          4.444178e-09\n",
      "rnd_Spend          2.578772e-21\n",
      "Administration     6.077373e-01\n",
      "Marketing_Spend    1.226769e-01\n",
      "State_Florida      9.532429e-01\n",
      "State_NewYork      9.897941e-01\n",
      "dtype: float64\n"
     ]
    }
   ],
   "source": [
    "#t and p-Values\n",
    "print(model1.tvalues, '\\n', model1.pvalues)"
   ]
  },
  {
   "cell_type": "code",
   "execution_count": 18,
   "metadata": {},
   "outputs": [
    {
     "data": {
      "text/plain": [
       "(0.9507524843355148, 0.945156175737278, 1062.764909597834)"
      ]
     },
     "execution_count": 18,
     "metadata": {},
     "output_type": "execute_result"
    }
   ],
   "source": [
    "#R squared and AIC values\n",
    "(model1.rsquared,model1.rsquared_adj,model1.aic)"
   ]
  },
  {
   "cell_type": "markdown",
   "metadata": {},
   "source": [
    "Looking at the pvalue above we get Multicollinearity issue in Administration (0.607), Marketing_Spend (0.122), State_Florida (0.953), and State_NewYork (0.989) varibale as their pvalues are greater than alpha (0.05)\n",
    "Hence we need to check their performance in the model by SLR\n",
    "\n",
    "## Simple Linear Regression Models"
   ]
  },
  {
   "cell_type": "code",
   "execution_count": 19,
   "metadata": {},
   "outputs": [
    {
     "name": "stdout",
     "output_type": "stream",
     "text": [
      "Intercept         3.040044\n",
      "Administration    1.419493\n",
      "dtype: float64 \n",
      " Intercept         0.003824\n",
      "Administration    0.162217\n",
      "dtype: float64\n"
     ]
    }
   ],
   "source": [
    "ml_adm =smf.ols('Profit~Administration',data=df4).fit()\n",
    "#t and p-Values\n",
    "print(ml_adm.tvalues, '\\n', ml_adm.pvalues)"
   ]
  },
  {
   "cell_type": "code",
   "execution_count": 20,
   "metadata": {},
   "outputs": [
    {
     "name": "stdout",
     "output_type": "stream",
     "text": [
      "Intercept          7.808356\n",
      "Marketing_Spend    7.802657\n",
      "dtype: float64 \n",
      " Intercept          4.294735e-10\n",
      "Marketing_Spend    4.381073e-10\n",
      "dtype: float64\n"
     ]
    }
   ],
   "source": [
    "ml_mrk =smf.ols('Profit~Marketing_Spend',data=df4).fit()\n",
    "#t and p-Values\n",
    "print(ml_mrk.tvalues, '\\n', ml_mrk.pvalues)"
   ]
  },
  {
   "cell_type": "code",
   "execution_count": 21,
   "metadata": {},
   "outputs": [
    {
     "name": "stdout",
     "output_type": "stream",
     "text": [
      "Intercept        15.689045\n",
      "State_Florida     0.810861\n",
      "dtype: float64 \n",
      " Intercept        1.586129e-20\n",
      "State_Florida    4.214479e-01\n",
      "dtype: float64\n"
     ]
    }
   ],
   "source": [
    "ml_sf =smf.ols('Profit~State_Florida',data=df4).fit()\n",
    "#t and p-Values\n",
    "print(ml_sf.tvalues, '\\n', ml_sf.pvalues)"
   ]
  },
  {
   "cell_type": "code",
   "execution_count": 22,
   "metadata": {},
   "outputs": [
    {
     "name": "stdout",
     "output_type": "stream",
     "text": [
      "Intercept        15.681647\n",
      "State_NewYork     0.217428\n",
      "dtype: float64 \n",
      " Intercept        1.616581e-20\n",
      "State_NewYork    8.287963e-01\n",
      "dtype: float64\n"
     ]
    }
   ],
   "source": [
    "ml_sny =smf.ols('Profit~State_NewYork',data=df4).fit()\n",
    "#t and p-Values\n",
    "print(ml_sny.tvalues, '\\n', ml_sny.pvalues)"
   ]
  },
  {
   "cell_type": "code",
   "execution_count": 23,
   "metadata": {},
   "outputs": [
    {
     "name": "stdout",
     "output_type": "stream",
     "text": [
      "Intercept          1.032926\n",
      "Administration     2.426268\n",
      "Marketing_Spend    7.997500\n",
      "State_Florida     -0.182449\n",
      "State_NewYork      0.430516\n",
      "dtype: float64 \n",
      " Intercept          3.071583e-01\n",
      "Administration     1.932536e-02\n",
      "Marketing_Spend    3.476071e-10\n",
      "State_Florida      8.560502e-01\n",
      "State_NewYork      6.688755e-01\n",
      "dtype: float64\n"
     ]
    }
   ],
   "source": [
    "ml_amss =smf.ols('Profit~Administration+Marketing_Spend+State_Florida+State_NewYork',data=df4).fit()\n",
    "#t and p-Values\n",
    "print(ml_amss.tvalues, '\\n', ml_amss.pvalues)"
   ]
  },
  {
   "cell_type": "markdown",
   "metadata": {},
   "source": [
    "Let's also check the issue by Variance Influation Factor\n",
    "## VIF Values"
   ]
  },
  {
   "cell_type": "code",
   "execution_count": 24,
   "metadata": {},
   "outputs": [
    {
     "data": {
      "text/html": [
       "<div>\n",
       "<style scoped>\n",
       "    .dataframe tbody tr th:only-of-type {\n",
       "        vertical-align: middle;\n",
       "    }\n",
       "\n",
       "    .dataframe tbody tr th {\n",
       "        vertical-align: top;\n",
       "    }\n",
       "\n",
       "    .dataframe thead th {\n",
       "        text-align: right;\n",
       "    }\n",
       "</style>\n",
       "<table border=\"1\" class=\"dataframe\">\n",
       "  <thead>\n",
       "    <tr style=\"text-align: right;\">\n",
       "      <th></th>\n",
       "      <th>Variables</th>\n",
       "      <th>VIF</th>\n",
       "    </tr>\n",
       "  </thead>\n",
       "  <tbody>\n",
       "    <tr>\n",
       "      <th>0</th>\n",
       "      <td>rnd_Spend</td>\n",
       "      <td>2.495511</td>\n",
       "    </tr>\n",
       "    <tr>\n",
       "      <th>1</th>\n",
       "      <td>Administration</td>\n",
       "      <td>1.177766</td>\n",
       "    </tr>\n",
       "    <tr>\n",
       "      <th>2</th>\n",
       "      <td>Marketing_Spend</td>\n",
       "      <td>2.416797</td>\n",
       "    </tr>\n",
       "    <tr>\n",
       "      <th>3</th>\n",
       "      <td>State_Florida</td>\n",
       "      <td>1.387641</td>\n",
       "    </tr>\n",
       "    <tr>\n",
       "      <th>4</th>\n",
       "      <td>State_NewYork</td>\n",
       "      <td>1.335061</td>\n",
       "    </tr>\n",
       "  </tbody>\n",
       "</table>\n",
       "</div>"
      ],
      "text/plain": [
       "         Variables       VIF\n",
       "0        rnd_Spend  2.495511\n",
       "1   Administration  1.177766\n",
       "2  Marketing_Spend  2.416797\n",
       "3    State_Florida  1.387641\n",
       "4    State_NewYork  1.335061"
      ]
     },
     "execution_count": 24,
     "metadata": {},
     "output_type": "execute_result"
    }
   ],
   "source": [
    "rsq_rnd = smf.ols('rnd_Spend~Administration+Marketing_Spend+State_Florida+State_NewYork',data=df4).fit().rsquared\n",
    "vif_rnd = 1/(1-rsq_rnd)\n",
    "\n",
    "rsq_adm = smf.ols('Administration~rnd_Spend+Marketing_Spend+State_Florida+State_NewYork',data=df4).fit().rsquared\n",
    "vif_adm = 1/(1-rsq_adm)\n",
    "\n",
    "rsq_mar = smf.ols('Marketing_Spend~rnd_Spend+Administration+State_Florida+State_NewYork',data=df4).fit().rsquared\n",
    "vif_mar = 1/(1-rsq_mar)\n",
    "\n",
    "rsq_sf = smf.ols('State_Florida~rnd_Spend+Administration+Marketing_Spend+State_NewYork',data=df4).fit().rsquared\n",
    "vif_sf = 1/(1-rsq_sf)\n",
    " \n",
    "rsq_sny = smf.ols('State_NewYork~rnd_Spend+Administration+Marketing_Spend+State_Florida',data=df4).fit().rsquared\n",
    "vif_sny = 1/(1-rsq_sny)\n",
    "\n",
    "# Storing vif values in a data frame\n",
    "T1 = {'Variables':['rnd_Spend','Administration','Marketing_Spend','State_Florida','State_NewYork'],'VIF':[vif_rnd,vif_adm,vif_mar,vif_sf,vif_sny]}\n",
    "Vif_frame = pd.DataFrame(T1)  \n",
    "Vif_frame"
   ]
  },
  {
   "cell_type": "markdown",
   "metadata": {},
   "source": [
    "In VIF values we don't find any Multicollinearity issue hence let's go for \n",
    "## Residual Analysis\n",
    "## Test for Normality of Residuals (Q-Q Plot)"
   ]
  },
  {
   "cell_type": "code",
   "execution_count": 25,
   "metadata": {},
   "outputs": [
    {
     "data": {
      "image/png": "[encoded data removed]",
      "text/plain": [
       "<Figure size 432x288 with 1 Axes>"
      ]
     },
     "metadata": {},
     "output_type": "display_data"
    }
   ],
   "source": [
    "import statsmodels.api as sm\n",
    "qqplot=sm.qqplot(model1.resid,line='q') \n",
    "plt.title(\"Normal Q-Q plot of residuals\")\n",
    "plt.show()"
   ]
  },
  {
   "cell_type": "markdown",
   "metadata": {},
   "source": [
    "Looking at the Q-Q plot we can say that Data points are following the Normal distribution however we can also detect the ouliers there which we will find out below. "
   ]
  },
  {
   "cell_type": "code",
   "execution_count": 26,
   "metadata": {},
   "outputs": [
    {
     "data": {
      "text/plain": [
       "[array([36, 45], dtype=int64)]"
      ]
     },
     "execution_count": 26,
     "metadata": {},
     "output_type": "execute_result"
    }
   ],
   "source": [
    "list(np.where(model1.resid>15000))"
   ]
  },
  {
   "cell_type": "markdown",
   "metadata": {},
   "source": [
    "As we can see above there are two observations which are outliers however we will confirm those by methods like Cook's Distance, Hat Point"
   ]
  },
  {
   "cell_type": "markdown",
   "metadata": {},
   "source": [
    "## Model Validation Technique \n",
    "### Residual Plot - Fitted Vs Residuals (Ei Vs Y^)"
   ]
  },
  {
   "cell_type": "code",
   "execution_count": 27,
   "metadata": {},
   "outputs": [],
   "source": [
    "def get_standardized_values( values ):\n",
    "    return (values - values.mean())/values.std()"
   ]
  },
  {
   "cell_type": "code",
   "execution_count": 28,
   "metadata": {},
   "outputs": [
    {
     "data": {
      "image/png": "[encoded data removed]",
      "text/plain": [
       "<Figure size 432x288 with 1 Axes>"
      ]
     },
     "metadata": {},
     "output_type": "display_data"
    }
   ],
   "source": [
    "plt.scatter(get_standardized_values(model1.fittedvalues),\n",
    "            get_standardized_values(model1.resid))\n",
    "\n",
    "plt.title('Residual Plot')\n",
    "plt.xlabel('Standardized Fitted values')\n",
    "plt.ylabel('Standardized residual values')\n",
    "plt.show()"
   ]
  },
  {
   "cell_type": "markdown",
   "metadata": {},
   "source": [
    "Since we can see a pattern we can say that this is not the perfect model we should go for, as it has ouliers detected which we haven't yet treated. Let's start treating them, \n",
    "\n",
    "## Model Deletion Diagnostics\n",
    "### Detecting Influencers/Outliers\n",
    "\n",
    "## 1) Cook’s Distance"
   ]
  },
  {
   "cell_type": "code",
   "execution_count": 29,
   "metadata": {},
   "outputs": [],
   "source": [
    "model1_influence = model1.get_influence()\n",
    "(c, _) = model1_influence.cooks_distance"
   ]
  },
  {
   "cell_type": "code",
   "execution_count": 30,
   "metadata": {},
   "outputs": [
    {
     "data": {
      "text/plain": [
       "(array([7.67941281e-06, 3.96002384e-03, 2.78948395e-02, 2.35705108e-02,\n",
       "        1.40231490e-02, 1.17098970e-02, 2.49314176e-03, 4.16542624e-03,\n",
       "        7.29467176e-05, 6.31415598e-03, 2.21391699e-02, 1.93512168e-02,\n",
       "        2.13263552e-02, 7.40092001e-03, 7.20165958e-02, 4.34157410e-02,\n",
       "        1.57591120e-02, 4.33058862e-03, 3.43997076e-03, 3.28909738e-02,\n",
       "        7.03247647e-04, 1.17002661e-02, 3.52541534e-03, 3.68801928e-04,\n",
       "        5.07030667e-03, 4.16365620e-03, 5.79414020e-03, 3.25030423e-02,\n",
       "        1.07438091e-03, 1.14685871e-04, 2.67092819e-05, 4.26003186e-06,\n",
       "        6.55180125e-04, 2.69550649e-04, 2.09894518e-02, 8.32171521e-03,\n",
       "        5.92471519e-02, 7.19280440e-05, 5.58017593e-02, 1.60830329e-03,\n",
       "        2.27122555e-03, 2.19513492e-03, 1.66164967e-04, 2.33988898e-02,\n",
       "        1.16697070e-04, 9.43947846e-02, 4.23233340e-02, 4.48153392e-03,\n",
       "        1.56376134e-01, 2.63959436e-01]),\n",
       " array([1.        , 0.99999968, 0.99989624, 0.99993671, 0.99998634,\n",
       "        0.999992  , 0.99999992, 0.99999963, 1.        , 0.99999873,\n",
       "        0.99994736, 0.9999646 , 0.99995285, 0.99999796, 0.99840251,\n",
       "        0.99962388, 0.99998071, 0.99999959, 0.99999979, 0.99983205,\n",
       "        1.        , 0.99999202, 0.99999978, 1.        , 0.99999934,\n",
       "        0.99999963, 0.99999902, 0.99983776, 0.99999999, 1.        ,\n",
       "        1.        , 1.        , 1.        , 1.        , 0.99995501,\n",
       "        0.9999971 , 0.99908153, 1.        , 0.99922595, 0.99999998,\n",
       "        0.99999994, 0.99999995, 1.        , 0.99993806, 1.        ,\n",
       "        0.99659817, 0.9996506 , 0.99999954, 0.98672741, 0.95073332]))"
      ]
     },
     "execution_count": 30,
     "metadata": {},
     "output_type": "execute_result"
    }
   ],
   "source": [
    "model1_influence.cooks_distance"
   ]
  },
  {
   "cell_type": "code",
   "execution_count": 31,
   "metadata": {},
   "outputs": [
    {
     "data": {
      "image/png": "[encoded data removed]",
      "text/plain": [
       "<Figure size 1440x504 with 1 Axes>"
      ]
     },
     "metadata": {},
     "output_type": "display_data"
    }
   ],
   "source": [
    "#Plot the influencers values using stem plot\n",
    "fig = plt.subplots(figsize=(20, 7))\n",
    "plt.stem(np.arange(len(df4)), np.round(c, 3))\n",
    "plt.xlabel('Row index')\n",
    "plt.ylabel('Cooks Distance')\n",
    "plt.show()"
   ]
  },
  {
   "cell_type": "code",
   "execution_count": 32,
   "metadata": {},
   "outputs": [
    {
     "data": {
      "text/plain": [
       "(49, 0.2639594358718258)"
      ]
     },
     "execution_count": 32,
     "metadata": {},
     "output_type": "execute_result"
    }
   ],
   "source": [
    "#index and value of influencer where c is more than .5\n",
    "(np.argmax(c),np.max(c))"
   ]
  },
  {
   "cell_type": "markdown",
   "metadata": {},
   "source": [
    "## 2) High Influence points or Hat Points"
   ]
  },
  {
   "cell_type": "code",
   "execution_count": 33,
   "metadata": {},
   "outputs": [
    {
     "data": {
      "image/png": "[encoded data removed]",
      "text/plain": [
       "<Figure size 432x288 with 1 Axes>"
      ]
     },
     "metadata": {},
     "output_type": "display_data"
    }
   ],
   "source": [
    "influence_plot(model1)\n",
    "plt.show()"
   ]
  },
  {
   "cell_type": "markdown",
   "metadata": {},
   "source": [
    "### From the above plot, it is evident that data point 14, 19, 27, 36, 38, 45, 46, 48, and 49 are the influencers"
   ]
  },
  {
   "cell_type": "code",
   "execution_count": 34,
   "metadata": {},
   "outputs": [
    {
     "data": {
      "text/html": [
       "<div>\n",
       "<style scoped>\n",
       "    .dataframe tbody tr th:only-of-type {\n",
       "        vertical-align: middle;\n",
       "    }\n",
       "\n",
       "    .dataframe tbody tr th {\n",
       "        vertical-align: top;\n",
       "    }\n",
       "\n",
       "    .dataframe thead th {\n",
       "        text-align: right;\n",
       "    }\n",
       "</style>\n",
       "<table border=\"1\" class=\"dataframe\">\n",
       "  <thead>\n",
       "    <tr style=\"text-align: right;\">\n",
       "      <th></th>\n",
       "      <th>rnd_Spend</th>\n",
       "      <th>Administration</th>\n",
       "      <th>Marketing_Spend</th>\n",
       "      <th>Profit</th>\n",
       "      <th>State_Florida</th>\n",
       "      <th>State_NewYork</th>\n",
       "    </tr>\n",
       "  </thead>\n",
       "  <tbody>\n",
       "    <tr>\n",
       "      <th>14</th>\n",
       "      <td>119943.24</td>\n",
       "      <td>156547.42</td>\n",
       "      <td>256512.92</td>\n",
       "      <td>132602.65</td>\n",
       "      <td>1</td>\n",
       "      <td>0</td>\n",
       "    </tr>\n",
       "    <tr>\n",
       "      <th>19</th>\n",
       "      <td>86419.70</td>\n",
       "      <td>153514.11</td>\n",
       "      <td>0.00</td>\n",
       "      <td>122776.86</td>\n",
       "      <td>0</td>\n",
       "      <td>1</td>\n",
       "    </tr>\n",
       "    <tr>\n",
       "      <th>27</th>\n",
       "      <td>72107.60</td>\n",
       "      <td>127864.55</td>\n",
       "      <td>353183.81</td>\n",
       "      <td>105008.31</td>\n",
       "      <td>0</td>\n",
       "      <td>1</td>\n",
       "    </tr>\n",
       "    <tr>\n",
       "      <th>36</th>\n",
       "      <td>28663.76</td>\n",
       "      <td>127056.21</td>\n",
       "      <td>201126.82</td>\n",
       "      <td>90708.19</td>\n",
       "      <td>1</td>\n",
       "      <td>0</td>\n",
       "    </tr>\n",
       "    <tr>\n",
       "      <th>38</th>\n",
       "      <td>20229.59</td>\n",
       "      <td>65947.93</td>\n",
       "      <td>185265.10</td>\n",
       "      <td>81229.06</td>\n",
       "      <td>0</td>\n",
       "      <td>1</td>\n",
       "    </tr>\n",
       "    <tr>\n",
       "      <th>45</th>\n",
       "      <td>1000.23</td>\n",
       "      <td>124153.04</td>\n",
       "      <td>1903.93</td>\n",
       "      <td>64926.08</td>\n",
       "      <td>0</td>\n",
       "      <td>1</td>\n",
       "    </tr>\n",
       "    <tr>\n",
       "      <th>46</th>\n",
       "      <td>1315.46</td>\n",
       "      <td>115816.21</td>\n",
       "      <td>297114.46</td>\n",
       "      <td>49490.75</td>\n",
       "      <td>1</td>\n",
       "      <td>0</td>\n",
       "    </tr>\n",
       "    <tr>\n",
       "      <th>48</th>\n",
       "      <td>542.05</td>\n",
       "      <td>51743.15</td>\n",
       "      <td>0.00</td>\n",
       "      <td>35673.41</td>\n",
       "      <td>0</td>\n",
       "      <td>1</td>\n",
       "    </tr>\n",
       "    <tr>\n",
       "      <th>49</th>\n",
       "      <td>0.00</td>\n",
       "      <td>116983.80</td>\n",
       "      <td>45173.06</td>\n",
       "      <td>14681.40</td>\n",
       "      <td>0</td>\n",
       "      <td>0</td>\n",
       "    </tr>\n",
       "  </tbody>\n",
       "</table>\n",
       "</div>"
      ],
      "text/plain": [
       "    rnd_Spend  Administration  Marketing_Spend     Profit  State_Florida  \\\n",
       "14  119943.24       156547.42        256512.92  132602.65              1   \n",
       "19   86419.70       153514.11             0.00  122776.86              0   \n",
       "27   72107.60       127864.55        353183.81  105008.31              0   \n",
       "36   28663.76       127056.21        201126.82   90708.19              1   \n",
       "38   20229.59        65947.93        185265.10   81229.06              0   \n",
       "45    1000.23       124153.04          1903.93   64926.08              0   \n",
       "46    1315.46       115816.21        297114.46   49490.75              1   \n",
       "48     542.05        51743.15             0.00   35673.41              0   \n",
       "49       0.00       116983.80         45173.06   14681.40              0   \n",
       "\n",
       "    State_NewYork  \n",
       "14              0  \n",
       "19              1  \n",
       "27              1  \n",
       "36              0  \n",
       "38              1  \n",
       "45              1  \n",
       "46              0  \n",
       "48              1  \n",
       "49              0  "
      ]
     },
     "execution_count": 34,
     "metadata": {},
     "output_type": "execute_result"
    }
   ],
   "source": [
    "df4[df4.index.isin([14, 19, 27, 36, 38, 45, 46, 48, 49])]"
   ]
  },
  {
   "cell_type": "code",
   "execution_count": 35,
   "metadata": {},
   "outputs": [],
   "source": [
    "#Let's check the differences in Price, CC and other variable values\n",
    "#df4.head(20)"
   ]
  },
  {
   "cell_type": "markdown",
   "metadata": {},
   "source": [
    "Let's remove the above outliers and \n",
    "## Improve the model "
   ]
  },
  {
   "cell_type": "code",
   "execution_count": 36,
   "metadata": {},
   "outputs": [],
   "source": [
    "#Discard the data points which are influencers and reasign the row number (reset_index())\n",
    "df5=df4.drop(df4.index[[14, 19, 27, 36, 38, 45, 46, 48, 49]],axis=0).reset_index()"
   ]
  },
  {
   "cell_type": "code",
   "execution_count": 37,
   "metadata": {},
   "outputs": [],
   "source": [
    "#df5"
   ]
  },
  {
   "cell_type": "code",
   "execution_count": 38,
   "metadata": {},
   "outputs": [],
   "source": [
    "#Drop the original index\n",
    "df5=df5.drop(['index'],axis=1)"
   ]
  },
  {
   "cell_type": "code",
   "execution_count": 39,
   "metadata": {},
   "outputs": [],
   "source": [
    "#df5"
   ]
  },
  {
   "cell_type": "markdown",
   "metadata": {},
   "source": [
    "## Now Let's build a model "
   ]
  },
  {
   "cell_type": "code",
   "execution_count": 40,
   "metadata": {},
   "outputs": [],
   "source": [
    "final_model1=smf.ols('Profit~rnd_Spend+Administration+Marketing_Spend+State_Florida+State_NewYork', data=df5).fit()"
   ]
  },
  {
   "cell_type": "code",
   "execution_count": 41,
   "metadata": {},
   "outputs": [
    {
     "data": {
      "text/plain": [
       "(0.9746410326861805, 0.9710183230699206, 838.5083722503791)"
      ]
     },
     "execution_count": 41,
     "metadata": {},
     "output_type": "execute_result"
    }
   ],
   "source": [
    "#Generating R-Squared and AIC values\n",
    "(final_model1.rsquared,final_model1.rsquared_adj,final_model1.aic)"
   ]
  },
  {
   "cell_type": "markdown",
   "metadata": {},
   "source": [
    "## Cook's Distance for 2nd model"
   ]
  },
  {
   "cell_type": "code",
   "execution_count": 42,
   "metadata": {},
   "outputs": [],
   "source": [
    "model_influence_f1 = final_model1.get_influence()\n",
    "(c_f1, _) = model_influence_f1.cooks_distance"
   ]
  },
  {
   "cell_type": "code",
   "execution_count": 43,
   "metadata": {},
   "outputs": [
    {
     "data": {
      "image/png": "[encoded data removed]",
      "text/plain": [
       "<Figure size 1440x504 with 1 Axes>"
      ]
     },
     "metadata": {},
     "output_type": "display_data"
    }
   ],
   "source": [
    "fig= plt.subplots(figsize=(20,7))\n",
    "plt.stem(np.arange(len(df5)),np.round(c_f1,3));\n",
    "plt.xlabel('Row index')\n",
    "plt.ylabel('Cooks Distance')\n",
    "plt.show()"
   ]
  },
  {
   "cell_type": "code",
   "execution_count": 44,
   "metadata": {},
   "outputs": [
    {
     "data": {
      "text/plain": [
       "(38, 0.13377197935560756)"
      ]
     },
     "execution_count": 44,
     "metadata": {},
     "output_type": "execute_result"
    }
   ],
   "source": [
    "#index of the data points where c is more than .5\n",
    "(np.argmax(c_f1),np.max(c_f1))"
   ]
  },
  {
   "cell_type": "code",
   "execution_count": 45,
   "metadata": {},
   "outputs": [
    {
     "data": {
      "text/html": [
       "<div>\n",
       "<style scoped>\n",
       "    .dataframe tbody tr th:only-of-type {\n",
       "        vertical-align: middle;\n",
       "    }\n",
       "\n",
       "    .dataframe tbody tr th {\n",
       "        vertical-align: top;\n",
       "    }\n",
       "\n",
       "    .dataframe thead th {\n",
       "        text-align: right;\n",
       "    }\n",
       "</style>\n",
       "<table border=\"1\" class=\"dataframe\">\n",
       "  <thead>\n",
       "    <tr style=\"text-align: right;\">\n",
       "      <th></th>\n",
       "      <th>rnd_Spend</th>\n",
       "      <th>Administration</th>\n",
       "      <th>Marketing_Spend</th>\n",
       "      <th>Profit</th>\n",
       "      <th>State_Florida</th>\n",
       "      <th>State_NewYork</th>\n",
       "    </tr>\n",
       "  </thead>\n",
       "  <tbody>\n",
       "    <tr>\n",
       "      <th>14</th>\n",
       "      <td>114523.61</td>\n",
       "      <td>122616.84</td>\n",
       "      <td>261776.23</td>\n",
       "      <td>129917.04</td>\n",
       "      <td>0</td>\n",
       "      <td>1</td>\n",
       "    </tr>\n",
       "    <tr>\n",
       "      <th>38</th>\n",
       "      <td>15505.73</td>\n",
       "      <td>127382.30</td>\n",
       "      <td>35534.17</td>\n",
       "      <td>69758.98</td>\n",
       "      <td>0</td>\n",
       "      <td>1</td>\n",
       "    </tr>\n",
       "    <tr>\n",
       "      <th>40</th>\n",
       "      <td>0.00</td>\n",
       "      <td>135426.92</td>\n",
       "      <td>0.00</td>\n",
       "      <td>42559.73</td>\n",
       "      <td>0</td>\n",
       "      <td>0</td>\n",
       "    </tr>\n",
       "  </tbody>\n",
       "</table>\n",
       "</div>"
      ],
      "text/plain": [
       "    rnd_Spend  Administration  Marketing_Spend     Profit  State_Florida  \\\n",
       "14  114523.61       122616.84        261776.23  129917.04              0   \n",
       "38   15505.73       127382.30         35534.17   69758.98              0   \n",
       "40       0.00       135426.92             0.00   42559.73              0   \n",
       "\n",
       "    State_NewYork  \n",
       "14              1  \n",
       "38              1  \n",
       "40              0  "
      ]
     },
     "execution_count": 45,
     "metadata": {},
     "output_type": "execute_result"
    }
   ],
   "source": [
    "df5[df5.index.isin([14,38,40])]"
   ]
  },
  {
   "cell_type": "code",
   "execution_count": 46,
   "metadata": {},
   "outputs": [],
   "source": [
    "df6=df5.drop(df4.index[[14, 38, 40]],axis=0).reset_index()\n",
    "#df6"
   ]
  },
  {
   "cell_type": "code",
   "execution_count": 47,
   "metadata": {},
   "outputs": [],
   "source": [
    "df6=df6.drop(['index'],axis=1)\n",
    "#df6"
   ]
  },
  {
   "cell_type": "code",
   "execution_count": 48,
   "metadata": {},
   "outputs": [],
   "source": [
    "final_model2=smf.ols('Profit~rnd_Spend+Administration+Marketing_Spend+State_Florida+State_NewYork', data=df6).fit()"
   ]
  },
  {
   "cell_type": "code",
   "execution_count": 49,
   "metadata": {},
   "outputs": [
    {
     "data": {
      "text/plain": [
       "(0.9780753224521551, 0.9746495915853044, 768.5364580282194)"
      ]
     },
     "execution_count": 49,
     "metadata": {},
     "output_type": "execute_result"
    }
   ],
   "source": [
    "#Generating R-Squared and AIC values\n",
    "(final_model2.rsquared,final_model2.rsquared_adj,final_model2.aic)"
   ]
  },
  {
   "cell_type": "markdown",
   "metadata": {},
   "source": [
    "## Cook's Distance for 3rd model "
   ]
  },
  {
   "cell_type": "code",
   "execution_count": 50,
   "metadata": {},
   "outputs": [],
   "source": [
    "model_influence_f2 = final_model2.get_influence()\n",
    "(c_f2, _) = model_influence_f2.cooks_distance"
   ]
  },
  {
   "cell_type": "code",
   "execution_count": 51,
   "metadata": {},
   "outputs": [
    {
     "data": {
      "image/png": "[encoded data removed]",
      "text/plain": [
       "<Figure size 1440x504 with 1 Axes>"
      ]
     },
     "metadata": {},
     "output_type": "display_data"
    }
   ],
   "source": [
    "fig= plt.subplots(figsize=(20,7))\n",
    "plt.stem(np.arange(len(df6)),np.round(c_f2,3));\n",
    "plt.xlabel('Row index')\n",
    "plt.ylabel('Cooks Distance')\n",
    "plt.show()"
   ]
  },
  {
   "cell_type": "code",
   "execution_count": 52,
   "metadata": {},
   "outputs": [
    {
     "data": {
      "text/plain": [
       "(3, 0.10089617787962403)"
      ]
     },
     "execution_count": 52,
     "metadata": {},
     "output_type": "execute_result"
    }
   ],
   "source": [
    "#index of the data points where c is more than .5\n",
    "(np.argmax(c_f2),np.max(c_f2))"
   ]
  },
  {
   "cell_type": "markdown",
   "metadata": {},
   "source": [
    "## Since the C value (0.1) is < 1 , we can stop the diagnostic process and finalize the model\n",
    "Also comapring the 1st model's and final model's R square and AIC values we understand that R square value has increased and AIC value has decreased in Final model, which states that the Final model is good and ready to predict for new data points. \n",
    "\n",
    "## Predicting for new data"
   ]
  },
  {
   "cell_type": "code",
   "execution_count": 53,
   "metadata": {},
   "outputs": [],
   "source": [
    "#New data for prediction\n",
    "new_data1=pd.DataFrame({'rnd_Spend':142107.34,'Administration':91391.77,'Marketing_Spend':366168.42,'State_Florida':1,\"State_NewYork\":0},index=[1])"
   ]
  },
  {
   "cell_type": "code",
   "execution_count": 54,
   "metadata": {},
   "outputs": [
    {
     "data": {
      "text/plain": [
       "1    173151.82149\n",
       "dtype: float64"
      ]
     },
     "execution_count": 54,
     "metadata": {},
     "output_type": "execute_result"
    }
   ],
   "source": [
    "final_model2.predict(new_data1)"
   ]
  }
 ],
 "metadata": {
  "kernelspec": {
   "display_name": "Python 3",
   "language": "python",
   "name": "python3"
  },
  "language_info": {
   "codemirror_mode": {
    "name": "ipython",
    "version": 3
   },
   "file_extension": ".py",
   "mimetype": "text/x-python",
   "name": "python",
   "nbconvert_exporter": "python",
   "pygments_lexer": "ipython3",
   "version": "3.8.5"
  }
 },
 "nbformat": 4,
 "nbformat_minor": 4
}
